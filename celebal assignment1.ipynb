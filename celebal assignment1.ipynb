{
 "cells": [
  {
   "cell_type": "markdown",
   "id": "9836d250-b7f1-4edd-ba14-67e3dead4ae6",
   "metadata": {},
   "source": [
    "## Lower Triangular\n",
    "Lower Triangular Function:\n",
    "\n",
    "1.Iterates from 1 to n.\n",
    "\n",
    "2.Prints i number of * (space after the star for alignment)."
   ]
  },
  {
   "cell_type": "code",
   "execution_count": 1,
   "id": "2f0677ac-1d7d-41de-a040-dd2d5dfc7881",
   "metadata": {},
   "outputs": [
    {
     "name": "stdout",
     "output_type": "stream",
     "text": [
      "* \n",
      "* * \n",
      "* * * \n",
      "* * * * \n",
      "* * * * * \n"
     ]
    }
   ],
   "source": [
    "def lower_triangular(n):\n",
    "    for i in range(1, n + 1):\n",
    "        print('* ' * i)\n",
    "\n",
    "# Example usage:\n",
    "lower_triangular(5)"
   ]
  },
  {
   "cell_type": "markdown",
   "id": "72b44422-a028-40da-a238-13e8f8fac0f4",
   "metadata": {},
   "source": [
    "## Upper Triangular\n",
    "Upper Triangular Function:\n",
    "\n",
    "1.Iterates from n to 1 (inclusive).\n",
    "\n",
    "2.Prints i number of * ."
   ]
  },
  {
   "cell_type": "code",
   "execution_count": 2,
   "id": "cd6db7bf-12e3-4000-8fc8-224b455d706f",
   "metadata": {},
   "outputs": [
    {
     "name": "stdout",
     "output_type": "stream",
     "text": [
      "* * * * * \n",
      "* * * * \n",
      "* * * \n",
      "* * \n",
      "* \n"
     ]
    }
   ],
   "source": [
    "def upper_triangular(n):\n",
    "    for i in range(n, 0, -1):\n",
    "        print('* ' * i)\n",
    "\n",
    "# Example usage:\n",
    "upper_triangular(5)\n"
   ]
  },
  {
   "cell_type": "markdown",
   "id": "fd4df2a9-7179-4dcd-9634-de70a1e5ce96",
   "metadata": {},
   "source": [
    "## Pyramid \n",
    "Pyramid Function:\n",
    "\n",
    "1.Iterates from 1 to n.\n",
    "\n",
    "2.For each row, prints spaces followed by * to create the pyramid shape.\n",
    "\n",
    "3.Number of spaces decreases as the row number increases to center-align the stars.\n"
   ]
  },
  {
   "cell_type": "code",
   "execution_count": 3,
   "id": "e46623a7-e8f0-4263-8155-31694fb2b66b",
   "metadata": {},
   "outputs": [
    {
     "name": "stdout",
     "output_type": "stream",
     "text": [
      "    * \n",
      "   * * \n",
      "  * * * \n",
      " * * * * \n",
      "* * * * * \n"
     ]
    }
   ],
   "source": [
    "def pyramid(n):\n",
    "    for i in range(1, n + 1):\n",
    "        print(' ' * (n - i) + '* ' * i)\n",
    "\n",
    "# Example usage:\n",
    "pyramid(5)\n"
   ]
  },
  {
   "cell_type": "code",
   "execution_count": null,
   "id": "d6c40b96-8721-4fe3-a021-67c77e410f15",
   "metadata": {},
   "outputs": [],
   "source": []
  }
 ],
 "metadata": {
  "kernelspec": {
   "display_name": "Python 3 (ipykernel)",
   "language": "python",
   "name": "python3"
  },
  "language_info": {
   "codemirror_mode": {
    "name": "ipython",
    "version": 3
   },
   "file_extension": ".py",
   "mimetype": "text/x-python",
   "name": "python",
   "nbconvert_exporter": "python",
   "pygments_lexer": "ipython3",
   "version": "3.11.7"
  }
 },
 "nbformat": 4,
 "nbformat_minor": 5
}
